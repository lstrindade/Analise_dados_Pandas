{
  "nbformat": 4,
  "nbformat_minor": 0,
  "metadata": {
    "colab": {
      "name": "Analise_de_Dados_Python_Pandas.ipynb",
      "provenance": [],
      "collapsed_sections": [],
      "authorship_tag": "ABX9TyNtuJe7+uhikKwN2jxNt1O0",
      "include_colab_link": true
    },
    "kernelspec": {
      "name": "python3",
      "display_name": "Python 3"
    }
  },
  "cells": [
    {
      "cell_type": "markdown",
      "metadata": {
        "id": "view-in-github",
        "colab_type": "text"
      },
      "source": [
        "<a href=\"https://colab.research.google.com/github/lstrindade/Analise_dados_Pandas/blob/master/Analise_de_Dados_Python_Pandas.ipynb\" target=\"_parent\"><img src=\"https://colab.research.google.com/assets/colab-badge.svg\" alt=\"Open In Colab\"/></a>"
      ]
    },
    {
      "cell_type": "markdown",
      "metadata": {
        "id": "myDI3JSvGVOW",
        "colab_type": "text"
      },
      "source": [
        "# Python para Análise de dados (Pandas)\n"
      ]
    },
    {
      "cell_type": "code",
      "metadata": {
        "id": "XPGGEKb1G9fb",
        "colab_type": "code",
        "colab": {}
      },
      "source": [
        "# importando a biblioteca Pandas\n",
        "import pandas as pd"
      ],
      "execution_count": 1,
      "outputs": []
    },
    {
      "cell_type": "code",
      "metadata": {
        "id": "REsAcxCoHGqS",
        "colab_type": "code",
        "colab": {}
      },
      "source": [
        "df = pd.read_csv('/content/Gapminder.csv', error_bad_lines=False, sep=';')"
      ],
      "execution_count": 5,
      "outputs": []
    },
    {
      "cell_type": "code",
      "metadata": {
        "id": "pCKNuzI6HW8K",
        "colab_type": "code",
        "colab": {
          "base_uri": "https://localhost:8080/",
          "height": 195
        },
        "outputId": "9e47b50e-3f1f-4f80-ab40-862dfda441cf"
      },
      "source": [
        "# Visualizando as 5 primeiras linhas\n",
        "df.head()"
      ],
      "execution_count": 6,
      "outputs": [
        {
          "output_type": "execute_result",
          "data": {
            "text/html": [
              "<div>\n",
              "<style scoped>\n",
              "    .dataframe tbody tr th:only-of-type {\n",
              "        vertical-align: middle;\n",
              "    }\n",
              "\n",
              "    .dataframe tbody tr th {\n",
              "        vertical-align: top;\n",
              "    }\n",
              "\n",
              "    .dataframe thead th {\n",
              "        text-align: right;\n",
              "    }\n",
              "</style>\n",
              "<table border=\"1\" class=\"dataframe\">\n",
              "  <thead>\n",
              "    <tr style=\"text-align: right;\">\n",
              "      <th></th>\n",
              "      <th>country</th>\n",
              "      <th>continent</th>\n",
              "      <th>year</th>\n",
              "      <th>lifeExp</th>\n",
              "      <th>pop</th>\n",
              "      <th>gdpPercap</th>\n",
              "    </tr>\n",
              "  </thead>\n",
              "  <tbody>\n",
              "    <tr>\n",
              "      <th>0</th>\n",
              "      <td>Afghanistan</td>\n",
              "      <td>Asia</td>\n",
              "      <td>1952</td>\n",
              "      <td>28.801</td>\n",
              "      <td>8425333</td>\n",
              "      <td>779.445314</td>\n",
              "    </tr>\n",
              "    <tr>\n",
              "      <th>1</th>\n",
              "      <td>Afghanistan</td>\n",
              "      <td>Asia</td>\n",
              "      <td>1957</td>\n",
              "      <td>30.332</td>\n",
              "      <td>9240934</td>\n",
              "      <td>820.853030</td>\n",
              "    </tr>\n",
              "    <tr>\n",
              "      <th>2</th>\n",
              "      <td>Afghanistan</td>\n",
              "      <td>Asia</td>\n",
              "      <td>1962</td>\n",
              "      <td>31.997</td>\n",
              "      <td>10267083</td>\n",
              "      <td>853.100710</td>\n",
              "    </tr>\n",
              "    <tr>\n",
              "      <th>3</th>\n",
              "      <td>Afghanistan</td>\n",
              "      <td>Asia</td>\n",
              "      <td>1967</td>\n",
              "      <td>34.020</td>\n",
              "      <td>11537966</td>\n",
              "      <td>836.197138</td>\n",
              "    </tr>\n",
              "    <tr>\n",
              "      <th>4</th>\n",
              "      <td>Afghanistan</td>\n",
              "      <td>Asia</td>\n",
              "      <td>1972</td>\n",
              "      <td>36.088</td>\n",
              "      <td>13079460</td>\n",
              "      <td>739.981106</td>\n",
              "    </tr>\n",
              "  </tbody>\n",
              "</table>\n",
              "</div>"
            ],
            "text/plain": [
              "       country continent  year  lifeExp       pop   gdpPercap\n",
              "0  Afghanistan      Asia  1952   28.801   8425333  779.445314\n",
              "1  Afghanistan      Asia  1957   30.332   9240934  820.853030\n",
              "2  Afghanistan      Asia  1962   31.997  10267083  853.100710\n",
              "3  Afghanistan      Asia  1967   34.020  11537966  836.197138\n",
              "4  Afghanistan      Asia  1972   36.088  13079460  739.981106"
            ]
          },
          "metadata": {
            "tags": []
          },
          "execution_count": 6
        }
      ]
    },
    {
      "cell_type": "code",
      "metadata": {
        "id": "jMrrY8vzHvFt",
        "colab_type": "code",
        "colab": {}
      },
      "source": [
        "df = df.rename(columns={'country':'Pais', 'continent': 'Continente', 'year': 'Ano', 'lifeExp': 'Expectativa_Vida', 'pop': 'Pop_Total', 'gdpPercap': 'PIB'})"
      ],
      "execution_count": 9,
      "outputs": []
    },
    {
      "cell_type": "code",
      "metadata": {
        "id": "8AtQwCWkIxex",
        "colab_type": "code",
        "colab": {
          "base_uri": "https://localhost:8080/",
          "height": 343
        },
        "outputId": "77a6ef86-fd57-43f4-8cec-cb9a1428bcaa"
      },
      "source": [
        "df.head(10)"
      ],
      "execution_count": 11,
      "outputs": [
        {
          "output_type": "execute_result",
          "data": {
            "text/html": [
              "<div>\n",
              "<style scoped>\n",
              "    .dataframe tbody tr th:only-of-type {\n",
              "        vertical-align: middle;\n",
              "    }\n",
              "\n",
              "    .dataframe tbody tr th {\n",
              "        vertical-align: top;\n",
              "    }\n",
              "\n",
              "    .dataframe thead th {\n",
              "        text-align: right;\n",
              "    }\n",
              "</style>\n",
              "<table border=\"1\" class=\"dataframe\">\n",
              "  <thead>\n",
              "    <tr style=\"text-align: right;\">\n",
              "      <th></th>\n",
              "      <th>Pais</th>\n",
              "      <th>Continente</th>\n",
              "      <th>Ano</th>\n",
              "      <th>Expectativa_Vida</th>\n",
              "      <th>Pop_Total</th>\n",
              "      <th>PIB</th>\n",
              "    </tr>\n",
              "  </thead>\n",
              "  <tbody>\n",
              "    <tr>\n",
              "      <th>0</th>\n",
              "      <td>Afghanistan</td>\n",
              "      <td>Asia</td>\n",
              "      <td>1952</td>\n",
              "      <td>28.801</td>\n",
              "      <td>8425333</td>\n",
              "      <td>779.445314</td>\n",
              "    </tr>\n",
              "    <tr>\n",
              "      <th>1</th>\n",
              "      <td>Afghanistan</td>\n",
              "      <td>Asia</td>\n",
              "      <td>1957</td>\n",
              "      <td>30.332</td>\n",
              "      <td>9240934</td>\n",
              "      <td>820.853030</td>\n",
              "    </tr>\n",
              "    <tr>\n",
              "      <th>2</th>\n",
              "      <td>Afghanistan</td>\n",
              "      <td>Asia</td>\n",
              "      <td>1962</td>\n",
              "      <td>31.997</td>\n",
              "      <td>10267083</td>\n",
              "      <td>853.100710</td>\n",
              "    </tr>\n",
              "    <tr>\n",
              "      <th>3</th>\n",
              "      <td>Afghanistan</td>\n",
              "      <td>Asia</td>\n",
              "      <td>1967</td>\n",
              "      <td>34.020</td>\n",
              "      <td>11537966</td>\n",
              "      <td>836.197138</td>\n",
              "    </tr>\n",
              "    <tr>\n",
              "      <th>4</th>\n",
              "      <td>Afghanistan</td>\n",
              "      <td>Asia</td>\n",
              "      <td>1972</td>\n",
              "      <td>36.088</td>\n",
              "      <td>13079460</td>\n",
              "      <td>739.981106</td>\n",
              "    </tr>\n",
              "    <tr>\n",
              "      <th>5</th>\n",
              "      <td>Afghanistan</td>\n",
              "      <td>Asia</td>\n",
              "      <td>1977</td>\n",
              "      <td>38.438</td>\n",
              "      <td>14880372</td>\n",
              "      <td>786.113360</td>\n",
              "    </tr>\n",
              "    <tr>\n",
              "      <th>6</th>\n",
              "      <td>Afghanistan</td>\n",
              "      <td>Asia</td>\n",
              "      <td>1982</td>\n",
              "      <td>39.854</td>\n",
              "      <td>12881816</td>\n",
              "      <td>978.011439</td>\n",
              "    </tr>\n",
              "    <tr>\n",
              "      <th>7</th>\n",
              "      <td>Afghanistan</td>\n",
              "      <td>Asia</td>\n",
              "      <td>1987</td>\n",
              "      <td>40.822</td>\n",
              "      <td>13867957</td>\n",
              "      <td>852.395945</td>\n",
              "    </tr>\n",
              "    <tr>\n",
              "      <th>8</th>\n",
              "      <td>Afghanistan</td>\n",
              "      <td>Asia</td>\n",
              "      <td>1992</td>\n",
              "      <td>41.674</td>\n",
              "      <td>16317921</td>\n",
              "      <td>649.341395</td>\n",
              "    </tr>\n",
              "    <tr>\n",
              "      <th>9</th>\n",
              "      <td>Afghanistan</td>\n",
              "      <td>Asia</td>\n",
              "      <td>1997</td>\n",
              "      <td>41.763</td>\n",
              "      <td>22227415</td>\n",
              "      <td>635.341351</td>\n",
              "    </tr>\n",
              "  </tbody>\n",
              "</table>\n",
              "</div>"
            ],
            "text/plain": [
              "          Pais Continente   Ano  Expectativa_Vida  Pop_Total         PIB\n",
              "0  Afghanistan       Asia  1952            28.801    8425333  779.445314\n",
              "1  Afghanistan       Asia  1957            30.332    9240934  820.853030\n",
              "2  Afghanistan       Asia  1962            31.997   10267083  853.100710\n",
              "3  Afghanistan       Asia  1967            34.020   11537966  836.197138\n",
              "4  Afghanistan       Asia  1972            36.088   13079460  739.981106\n",
              "5  Afghanistan       Asia  1977            38.438   14880372  786.113360\n",
              "6  Afghanistan       Asia  1982            39.854   12881816  978.011439\n",
              "7  Afghanistan       Asia  1987            40.822   13867957  852.395945\n",
              "8  Afghanistan       Asia  1992            41.674   16317921  649.341395\n",
              "9  Afghanistan       Asia  1997            41.763   22227415  635.341351"
            ]
          },
          "metadata": {
            "tags": []
          },
          "execution_count": 11
        }
      ]
    },
    {
      "cell_type": "code",
      "metadata": {
        "id": "pF6kj_1pJJhw",
        "colab_type": "code",
        "colab": {
          "base_uri": "https://localhost:8080/",
          "height": 34
        },
        "outputId": "ff3e9fdf-4374-4aaa-f692-07852f010057"
      },
      "source": [
        "df.shape"
      ],
      "execution_count": 12,
      "outputs": [
        {
          "output_type": "execute_result",
          "data": {
            "text/plain": [
              "(3312, 6)"
            ]
          },
          "metadata": {
            "tags": []
          },
          "execution_count": 12
        }
      ]
    },
    {
      "cell_type": "code",
      "metadata": {
        "id": "ZUaYebT1JiLi",
        "colab_type": "code",
        "colab": {
          "base_uri": "https://localhost:8080/",
          "height": 54
        },
        "outputId": "d2729a69-d30f-4548-95e9-21dfcc48d224"
      },
      "source": [
        "df.columns"
      ],
      "execution_count": 13,
      "outputs": [
        {
          "output_type": "execute_result",
          "data": {
            "text/plain": [
              "Index(['Pais', 'Continente', 'Ano', 'Expectativa_Vida', 'Pop_Total', 'PIB'], dtype='object')"
            ]
          },
          "metadata": {
            "tags": []
          },
          "execution_count": 13
        }
      ]
    },
    {
      "cell_type": "code",
      "metadata": {
        "id": "mqoOZU_dJkJQ",
        "colab_type": "code",
        "colab": {
          "base_uri": "https://localhost:8080/",
          "height": 284
        },
        "outputId": "327a61e5-b887-4520-f1cb-36a97227ba1d"
      },
      "source": [
        "df.describe()"
      ],
      "execution_count": 14,
      "outputs": [
        {
          "output_type": "execute_result",
          "data": {
            "text/html": [
              "<div>\n",
              "<style scoped>\n",
              "    .dataframe tbody tr th:only-of-type {\n",
              "        vertical-align: middle;\n",
              "    }\n",
              "\n",
              "    .dataframe tbody tr th {\n",
              "        vertical-align: top;\n",
              "    }\n",
              "\n",
              "    .dataframe thead th {\n",
              "        text-align: right;\n",
              "    }\n",
              "</style>\n",
              "<table border=\"1\" class=\"dataframe\">\n",
              "  <thead>\n",
              "    <tr style=\"text-align: right;\">\n",
              "      <th></th>\n",
              "      <th>Ano</th>\n",
              "      <th>Expectativa_Vida</th>\n",
              "      <th>Pop_Total</th>\n",
              "      <th>PIB</th>\n",
              "    </tr>\n",
              "  </thead>\n",
              "  <tbody>\n",
              "    <tr>\n",
              "      <th>count</th>\n",
              "      <td>3312.000000</td>\n",
              "      <td>3312.000000</td>\n",
              "      <td>3.312000e+03</td>\n",
              "      <td>3312.000000</td>\n",
              "    </tr>\n",
              "    <tr>\n",
              "      <th>mean</th>\n",
              "      <td>1980.301630</td>\n",
              "      <td>65.246871</td>\n",
              "      <td>3.161489e+07</td>\n",
              "      <td>11317.115805</td>\n",
              "    </tr>\n",
              "    <tr>\n",
              "      <th>std</th>\n",
              "      <td>16.927294</td>\n",
              "      <td>11.768412</td>\n",
              "      <td>1.041193e+08</td>\n",
              "      <td>11369.142739</td>\n",
              "    </tr>\n",
              "    <tr>\n",
              "      <th>min</th>\n",
              "      <td>1950.000000</td>\n",
              "      <td>23.599000</td>\n",
              "      <td>5.941200e+04</td>\n",
              "      <td>241.165877</td>\n",
              "    </tr>\n",
              "    <tr>\n",
              "      <th>25%</th>\n",
              "      <td>1967.000000</td>\n",
              "      <td>58.337500</td>\n",
              "      <td>2.678572e+06</td>\n",
              "      <td>2514.625266</td>\n",
              "    </tr>\n",
              "    <tr>\n",
              "      <th>50%</th>\n",
              "      <td>1982.000000</td>\n",
              "      <td>69.610000</td>\n",
              "      <td>7.557218e+06</td>\n",
              "      <td>7838.505123</td>\n",
              "    </tr>\n",
              "    <tr>\n",
              "      <th>75%</th>\n",
              "      <td>1996.000000</td>\n",
              "      <td>73.657750</td>\n",
              "      <td>1.958522e+07</td>\n",
              "      <td>17357.879170</td>\n",
              "    </tr>\n",
              "    <tr>\n",
              "      <th>max</th>\n",
              "      <td>2007.000000</td>\n",
              "      <td>82.670000</td>\n",
              "      <td>1.318683e+09</td>\n",
              "      <td>113523.132900</td>\n",
              "    </tr>\n",
              "  </tbody>\n",
              "</table>\n",
              "</div>"
            ],
            "text/plain": [
              "               Ano  Expectativa_Vida     Pop_Total            PIB\n",
              "count  3312.000000       3312.000000  3.312000e+03    3312.000000\n",
              "mean   1980.301630         65.246871  3.161489e+07   11317.115805\n",
              "std      16.927294         11.768412  1.041193e+08   11369.142739\n",
              "min    1950.000000         23.599000  5.941200e+04     241.165877\n",
              "25%    1967.000000         58.337500  2.678572e+06    2514.625266\n",
              "50%    1982.000000         69.610000  7.557218e+06    7838.505123\n",
              "75%    1996.000000         73.657750  1.958522e+07   17357.879170\n",
              "max    2007.000000         82.670000  1.318683e+09  113523.132900"
            ]
          },
          "metadata": {
            "tags": []
          },
          "execution_count": 14
        }
      ]
    },
    {
      "cell_type": "code",
      "metadata": {
        "id": "4PELwWyxKm0E",
        "colab_type": "code",
        "colab": {
          "base_uri": "https://localhost:8080/",
          "height": 50
        },
        "outputId": "7a0b7014-7cbd-406a-ccb8-5026d56e2f8c"
      },
      "source": [
        "df['Continente'].unique()"
      ],
      "execution_count": 16,
      "outputs": [
        {
          "output_type": "execute_result",
          "data": {
            "text/plain": [
              "array(['Asia', 'Europe', 'Africa', 'Americas', nan, 'FSU', 'Oceania'],\n",
              "      dtype=object)"
            ]
          },
          "metadata": {
            "tags": []
          },
          "execution_count": 16
        }
      ]
    },
    {
      "cell_type": "code",
      "metadata": {
        "id": "9CntUazQK5yS",
        "colab_type": "code",
        "colab": {
          "base_uri": "https://localhost:8080/",
          "height": 402
        },
        "outputId": "7e8669dd-532e-48e0-8b5a-7b6ab9561505"
      },
      "source": [
        "# filtrar dados\n",
        "oceania = df.loc[df['Continente'] == 'Oceania']\n",
        "oceania"
      ],
      "execution_count": 18,
      "outputs": [
        {
          "output_type": "execute_result",
          "data": {
            "text/html": [
              "<div>\n",
              "<style scoped>\n",
              "    .dataframe tbody tr th:only-of-type {\n",
              "        vertical-align: middle;\n",
              "    }\n",
              "\n",
              "    .dataframe tbody tr th {\n",
              "        vertical-align: top;\n",
              "    }\n",
              "\n",
              "    .dataframe thead th {\n",
              "        text-align: right;\n",
              "    }\n",
              "</style>\n",
              "<table border=\"1\" class=\"dataframe\">\n",
              "  <thead>\n",
              "    <tr style=\"text-align: right;\">\n",
              "      <th></th>\n",
              "      <th>Pais</th>\n",
              "      <th>Continente</th>\n",
              "      <th>Ano</th>\n",
              "      <th>Expectativa_Vida</th>\n",
              "      <th>Pop_Total</th>\n",
              "      <th>PIB</th>\n",
              "    </tr>\n",
              "  </thead>\n",
              "  <tbody>\n",
              "    <tr>\n",
              "      <th>975</th>\n",
              "      <td>Fiji</td>\n",
              "      <td>Oceania</td>\n",
              "      <td>1962</td>\n",
              "      <td>56.494</td>\n",
              "      <td>421869</td>\n",
              "      <td>2039.393277</td>\n",
              "    </tr>\n",
              "    <tr>\n",
              "      <th>976</th>\n",
              "      <td>Fiji</td>\n",
              "      <td>Oceania</td>\n",
              "      <td>1967</td>\n",
              "      <td>58.607</td>\n",
              "      <td>485000</td>\n",
              "      <td>2170.073285</td>\n",
              "    </tr>\n",
              "    <tr>\n",
              "      <th>977</th>\n",
              "      <td>Fiji</td>\n",
              "      <td>Oceania</td>\n",
              "      <td>1972</td>\n",
              "      <td>60.642</td>\n",
              "      <td>544000</td>\n",
              "      <td>2797.759484</td>\n",
              "    </tr>\n",
              "    <tr>\n",
              "      <th>978</th>\n",
              "      <td>Fiji</td>\n",
              "      <td>Oceania</td>\n",
              "      <td>1977</td>\n",
              "      <td>62.669</td>\n",
              "      <td>599339</td>\n",
              "      <td>3182.569600</td>\n",
              "    </tr>\n",
              "    <tr>\n",
              "      <th>979</th>\n",
              "      <td>Fiji</td>\n",
              "      <td>Oceania</td>\n",
              "      <td>1982</td>\n",
              "      <td>64.683</td>\n",
              "      <td>658906</td>\n",
              "      <td>3209.257468</td>\n",
              "    </tr>\n",
              "    <tr>\n",
              "      <th>...</th>\n",
              "      <td>...</td>\n",
              "      <td>...</td>\n",
              "      <td>...</td>\n",
              "      <td>...</td>\n",
              "      <td>...</td>\n",
              "      <td>...</td>\n",
              "    </tr>\n",
              "    <tr>\n",
              "      <th>2696</th>\n",
              "      <td>Solomon Islands</td>\n",
              "      <td>Oceania</td>\n",
              "      <td>1987</td>\n",
              "      <td>55.785</td>\n",
              "      <td>300694</td>\n",
              "      <td>1783.648762</td>\n",
              "    </tr>\n",
              "    <tr>\n",
              "      <th>2697</th>\n",
              "      <td>Solomon Islands</td>\n",
              "      <td>Oceania</td>\n",
              "      <td>1992</td>\n",
              "      <td>58.270</td>\n",
              "      <td>358713</td>\n",
              "      <td>2109.894257</td>\n",
              "    </tr>\n",
              "    <tr>\n",
              "      <th>2698</th>\n",
              "      <td>Solomon Islands</td>\n",
              "      <td>Oceania</td>\n",
              "      <td>1997</td>\n",
              "      <td>60.708</td>\n",
              "      <td>424265</td>\n",
              "      <td>2252.491044</td>\n",
              "    </tr>\n",
              "    <tr>\n",
              "      <th>2699</th>\n",
              "      <td>Solomon Islands</td>\n",
              "      <td>Oceania</td>\n",
              "      <td>2002</td>\n",
              "      <td>62.274</td>\n",
              "      <td>494786</td>\n",
              "      <td>1530.496068</td>\n",
              "    </tr>\n",
              "    <tr>\n",
              "      <th>2700</th>\n",
              "      <td>Solomon Islands</td>\n",
              "      <td>Oceania</td>\n",
              "      <td>2007</td>\n",
              "      <td>63.570</td>\n",
              "      <td>566842</td>\n",
              "      <td>1829.317402</td>\n",
              "    </tr>\n",
              "  </tbody>\n",
              "</table>\n",
              "<p>74 rows × 6 columns</p>\n",
              "</div>"
            ],
            "text/plain": [
              "                 Pais Continente  ...  Pop_Total          PIB\n",
              "975              Fiji    Oceania  ...     421869  2039.393277\n",
              "976              Fiji    Oceania  ...     485000  2170.073285\n",
              "977              Fiji    Oceania  ...     544000  2797.759484\n",
              "978              Fiji    Oceania  ...     599339  3182.569600\n",
              "979              Fiji    Oceania  ...     658906  3209.257468\n",
              "...               ...        ...  ...        ...          ...\n",
              "2696  Solomon Islands    Oceania  ...     300694  1783.648762\n",
              "2697  Solomon Islands    Oceania  ...     358713  2109.894257\n",
              "2698  Solomon Islands    Oceania  ...     424265  2252.491044\n",
              "2699  Solomon Islands    Oceania  ...     494786  1530.496068\n",
              "2700  Solomon Islands    Oceania  ...     566842  1829.317402\n",
              "\n",
              "[74 rows x 6 columns]"
            ]
          },
          "metadata": {
            "tags": []
          },
          "execution_count": 18
        }
      ]
    },
    {
      "cell_type": "code",
      "metadata": {
        "id": "JOKnVv_nLFgN",
        "colab_type": "code",
        "colab": {
          "base_uri": "https://localhost:8080/",
          "height": 151
        },
        "outputId": "0dbd9c43-00a0-40c1-8f67-6681405d3074"
      },
      "source": [
        "df.groupby('Continente')['Pais'].nunique()"
      ],
      "execution_count": 19,
      "outputs": [
        {
          "output_type": "execute_result",
          "data": {
            "text/plain": [
              "Continente\n",
              "Africa      51\n",
              "Americas    25\n",
              "Asia        41\n",
              "Europe      35\n",
              "FSU          6\n",
              "Oceania      3\n",
              "Name: Pais, dtype: int64"
            ]
          },
          "metadata": {
            "tags": []
          },
          "execution_count": 19
        }
      ]
    },
    {
      "cell_type": "code",
      "metadata": {
        "id": "WypPpTt6LsZg",
        "colab_type": "code",
        "colab": {
          "base_uri": "https://localhost:8080/",
          "height": 1000
        },
        "outputId": "5cf80abe-be6b-4a0c-dbb8-cc284092dbaf"
      },
      "source": [
        "# a expectativa de vida média por ano\n",
        "df.groupby('Ano')['Expectativa_Vida'].mean()"
      ],
      "execution_count": 20,
      "outputs": [
        {
          "output_type": "execute_result",
          "data": {
            "text/plain": [
              "Ano\n",
              "1950    62.002568\n",
              "1951    65.904167\n",
              "1952    49.206867\n",
              "1953    66.674563\n",
              "1954    67.459817\n",
              "1955    67.806757\n",
              "1956    67.950637\n",
              "1957    51.614590\n",
              "1958    68.815936\n",
              "1959    68.226579\n",
              "1960    68.470837\n",
              "1961    68.862480\n",
              "1962    54.035234\n",
              "1963    69.595735\n",
              "1964    70.063105\n",
              "1965    70.259881\n",
              "1966    70.447526\n",
              "1967    56.263629\n",
              "1968    70.689081\n",
              "1969    70.653896\n",
              "1970    70.961141\n",
              "1971    71.103976\n",
              "1972    58.474481\n",
              "1973    71.500338\n",
              "1974    71.778504\n",
              "1975    71.939218\n",
              "1976    72.158050\n",
              "1977    60.429090\n",
              "1978    72.717567\n",
              "1979    73.018717\n",
              "1980    73.064524\n",
              "1981    73.337399\n",
              "1982    62.365871\n",
              "1983    73.787778\n",
              "1984    74.100741\n",
              "1985    74.112222\n",
              "1986    74.452222\n",
              "1987    63.984860\n",
              "1988    74.760000\n",
              "1989    74.924444\n",
              "1990    74.283437\n",
              "1991    74.374848\n",
              "1992    65.008443\n",
              "1993    74.324545\n",
              "1994    74.456667\n",
              "1995    74.552727\n",
              "1996    75.029394\n",
              "1997    65.873799\n",
              "1998    75.569697\n",
              "1999    75.703636\n",
              "2000    76.026364\n",
              "2001    76.257879\n",
              "2002    66.835695\n",
              "2003    76.586667\n",
              "2004    76.921563\n",
              "2005    76.718667\n",
              "2006    77.887778\n",
              "2007    67.868557\n",
              "Name: Expectativa_Vida, dtype: float64"
            ]
          },
          "metadata": {
            "tags": []
          },
          "execution_count": 20
        }
      ]
    },
    {
      "cell_type": "code",
      "metadata": {
        "id": "My_hD8E_ML8o",
        "colab_type": "code",
        "colab": {
          "base_uri": "https://localhost:8080/",
          "height": 34
        },
        "outputId": "05a9078d-c341-4d47-abda-a7ac80910981"
      },
      "source": [
        "df['PIB'].mean()"
      ],
      "execution_count": 21,
      "outputs": [
        {
          "output_type": "execute_result",
          "data": {
            "text/plain": [
              "11317.115804696637"
            ]
          },
          "metadata": {
            "tags": []
          },
          "execution_count": 21
        }
      ]
    },
    {
      "cell_type": "code",
      "metadata": {
        "id": "P8M6XMLgMfTp",
        "colab_type": "code",
        "colab": {
          "base_uri": "https://localhost:8080/",
          "height": 34
        },
        "outputId": "1f39c5fa-6519-463a-a3c3-6a24ffb3014a"
      },
      "source": [
        "df['PIB'].sum()"
      ],
      "execution_count": 22,
      "outputs": [
        {
          "output_type": "execute_result",
          "data": {
            "text/plain": [
              "37482287.5451553"
            ]
          },
          "metadata": {
            "tags": []
          },
          "execution_count": 22
        }
      ]
    },
    {
      "cell_type": "code",
      "metadata": {
        "id": "lBi83oBlMiw-",
        "colab_type": "code",
        "colab": {}
      },
      "source": [
        ""
      ],
      "execution_count": null,
      "outputs": []
    }
  ]
}